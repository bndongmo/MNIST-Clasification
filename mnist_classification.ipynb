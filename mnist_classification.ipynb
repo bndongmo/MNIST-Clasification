{
 "cells": [
  {
   "cell_type": "markdown",
   "metadata": {},
   "source": [
    "# MNIST Classification\n",
    "In this exercise we will explore the performance of several classification techniques on classifying handwritten digits. The canonical dataset used is the MNIST dataset (https://en.wikipedia.org/wiki/MNIST_database). We will evaluate classifier performance through train/validation/test sets provided to you. "
   ]
  },
  {
   "cell_type": "markdown",
   "metadata": {},
   "source": [
    "This exercise will use TensorFlow (https://en.wikipedia.org/wiki/TensorFlow). <b>Ignore all warnings produced by the tensorflow library (or others that you are required to use in this project, e.g. scikit-learn).</b>"
   ]
  },
  {
   "cell_type": "code",
   "execution_count": 3,
   "metadata": {},
   "outputs": [],
   "source": [
    "# imports\n",
    "from utils import get_data_extract\n",
    "from matplotlib import pyplot as plt\n",
    "import numpy as np\n",
    "import tensorflow as tf\n",
    "import time\n",
    "from sklearn.metrics import accuracy_score\n",
    "\n",
    "# For reproducibility \n",
    "tf.random.set_seed(0)\n",
    "np.random.seed(0)"
   ]
  },
  {
   "cell_type": "markdown",
   "metadata": {},
   "source": [
    "Run the following line to retrieve the data and generate the training, validation, and test sets using the function <b>get_data_extract()</b> provided in <b>utils.py</b>. <br>\n",
    "<b>We want you to use the training, validation and test sets provided by this function, exclusively.</b>"
   ]
  },
  {
   "cell_type": "code",
   "execution_count": 4,
   "metadata": {},
   "outputs": [],
   "source": [
    "X_train, Y_train, X_val, Y_val, X_test, Y_test = get_data_extract()"
   ]
  },
  {
   "cell_type": "markdown",
   "metadata": {},
   "source": [
    "# 0. Understanding the data"
   ]
  },
  {
   "cell_type": "markdown",
   "metadata": {},
   "source": [
    "The resolution of the images are all $28\\times 28$. The corresponding feature vector of an image is a $28^2=784$ length 1D array representing the row-major flattened version of the image (i.e. the rows are concatenated top-down). All values in the array are in the range $[0,1]$ representing the grayscale value at that point. Note to get the pixel value, you would have to multiply these values by $255$.  "
   ]
  },
  {
   "cell_type": "markdown",
   "metadata": {},
   "source": [
    "a) What are the dimensions of $X_{train}, X_{val}, X_{test}$?"
   ]
  },
  {
   "cell_type": "code",
   "execution_count": 6,
   "metadata": {},
   "outputs": [
    {
     "name": "stdout",
     "output_type": "stream",
     "text": [
      "X_train dim: (16500, 784)\n",
      "X_val dim: (1500, 784)\n",
      "X_test dim: (3000, 784)\n"
     ]
    }
   ],
   "source": [
    "# (1 pt) Calculate dimensions here\n",
    "print('X_train dim: '+str(X_train.shape))\n",
    "print('X_val dim: '+str(X_val.shape))\n",
    "print('X_test dim: '+str(X_test.shape))"
   ]
  },
  {
   "cell_type": "markdown",
   "metadata": {},
   "source": [
    "b) Display the first two images of $X_{train}$. (You may find the <b>np.reshape()</b> and <b>plt.imshow()</b> methods useful.)"
   ]
  },
  {
   "cell_type": "code",
   "execution_count": 19,
   "metadata": {},
   "outputs": [
    {
     "data": {
      "image/png": "[encoded data removed]",
      "text/plain": [
       "<Figure size 640x480 with 2 Axes>"
      ]
     },
     "metadata": {},
     "output_type": "display_data"
    }
   ],
   "source": [
    "# (1 pt) Display first two training images here\n",
    "fig, ax = plt.subplots(1, 2)\n",
    "ax[0].imshow(X_train[0].reshape(28,28))\n",
    "ax[0].set_title(f\"Label: {Y_train[0]}\")\n",
    "ax[1].imshow(X_train[1].reshape(28,28))\n",
    "ax[1].set_title(f\"Label: {Y_train[1]}\")\n",
    "plt.show()"
   ]
  },
  {
   "cell_type": "markdown",
   "metadata": {},
   "source": [
    "c) Print out the first two labels in $Y_{train}$. "
   ]
  },
  {
   "cell_type": "code",
   "execution_count": 21,
   "metadata": {},
   "outputs": [
    {
     "name": "stdout",
     "output_type": "stream",
     "text": [
      "Label 0: 6\n",
      "Label 1: 3\n"
     ]
    }
   ],
   "source": [
    "# (1 pt) Print first two training labels here\n",
    "print(f\"Label 0: {Y_train[0]}\")\n",
    "print(f\"Label 1: {Y_train[1]}\")"
   ]
  },
  {
   "cell_type": "markdown",
   "metadata": {},
   "source": [
    "We will now use the MNIST data extracts above to compare various classification algorithms. <b>ONLY use the data extracts provided above. </b> We are primarily interested in two metrics: \n",
    "1. the test set accuracy (0.0 being all incorrect and 1.0 being all correct)\n",
    "2. time it takes to train the model and produce classifications for the <b>test set</b> <br>\n",
    "\n",
    "$X_{train}, Y_{train}$ will be used for training while $X_{test}, Y_{test}$ will be used for evaluating performance. Some models will use $X_{val}, Y_{val}$ for parameter tuning. "
   ]
  },
  {
   "cell_type": "markdown",
   "metadata": {},
   "source": [
    "# 1. LDA\n"
   ]
  },
  {
   "cell_type": "markdown",
   "metadata": {},
   "source": [
    "a) Use scikit-learn's LDA algorithm <b>LinearDiscriminantAnalysis()</b> to train an LDA-model. Only use the $X_{train}, Y_{train}$ data to fit the model. Use <b>time.time()</b> to note the time (in seconds) it takes to train the model and print it. "
   ]
  },
  {
   "cell_type": "code",
   "execution_count": 23,
   "metadata": {},
   "outputs": [
    {
     "name": "stdout",
     "output_type": "stream",
     "text": [
      "Time to train LDA model: 4.23463249206543 seconds\n"
     ]
    }
   ],
   "source": [
    "# (4 pts) Train LDA and report time\n",
    "\n",
    "# create an instance of the LDA model\n",
    "from sklearn.discriminant_analysis import LinearDiscriminantAnalysis\n",
    "lda = LinearDiscriminantAnalysis()\n",
    "\n",
    "# fit the model to the training data\n",
    "start_time = time.time()\n",
    "lda.fit(X_train, Y_train)\n",
    "end_time = time.time()\n",
    "\n",
    "# print the time it took to fit the model\n",
    "print(f\"Time to train LDA model: {end_time - start_time} seconds\")"
   ]
  },
  {
   "cell_type": "markdown",
   "metadata": {},
   "source": [
    "b) Use the <b>score()</b> function provided by LinearDiscriminantAnalysis() on the trained model to produce the accuracy on the test set $X_{test}, Y_{test}$ Also print the time it takes to produce these predictions. Clearly format your answers."
   ]
  },
  {
   "cell_type": "code",
   "execution_count": 24,
   "metadata": {},
   "outputs": [
    {
     "name": "stdout",
     "output_type": "stream",
     "text": [
      "Accuracy on test set: 0.8680\n",
      "Time to make predictions on test set: 0.11002707481384277 seconds\n"
     ]
    }
   ],
   "source": [
    "# (4 pts) Test LDA on X_test, Y_test and report accuracy, time\n",
    "# use the trained model to predict on the test set\n",
    "start_time = time.time()\n",
    "accuracy = lda.score(X_test, Y_test)\n",
    "end_time = time.time()\n",
    "\n",
    "# print the accuracy and time to predict\n",
    "print(f\"Accuracy on test set: {accuracy:.4f}\")\n",
    "print(f\"Time to make predictions on test set: {end_time - start_time} seconds\")"
   ]
  },
  {
   "cell_type": "markdown",
   "metadata": {},
   "source": [
    "# 2. QDA"
   ]
  },
  {
   "cell_type": "markdown",
   "metadata": {},
   "source": [
    "Repeat the exercise above for sklearn's QDA algorithm <b>QuadraticDiscriminantAnalysis()</b>. Produce the training time, test set prediction accuracy score and time taken to produce predictions. Format your answers."
   ]
  },
  {
   "cell_type": "code",
   "execution_count": 26,
   "metadata": {},
   "outputs": [
    {
     "name": "stderr",
     "output_type": "stream",
     "text": [
      "C:\\anaconda3\\lib\\site-packages\\sklearn\\discriminant_analysis.py:878: UserWarning: Variables are collinear\n",
      "  warnings.warn(\"Variables are collinear\")\n"
     ]
    },
    {
     "name": "stdout",
     "output_type": "stream",
     "text": [
      "Time to train QDA model: 13.236860513687134 seconds\n",
      "Accuracy on test set: 0.5913\n",
      "Time to make predictions on test set: 1.292567253112793 seconds\n"
     ]
    }
   ],
   "source": [
    "# (4 pts) Train QDA and report time\n",
    "# (4 pts) Test QDA and report accuracy, time\n",
    "# create an instance of the QDA model\n",
    "from sklearn.discriminant_analysis import QuadraticDiscriminantAnalysis\n",
    "qda = QuadraticDiscriminantAnalysis()\n",
    "\n",
    "# fit the model to the training data\n",
    "start_time = time.time()\n",
    "qda.fit(X_train, Y_train)\n",
    "end_time = time.time()\n",
    "\n",
    "# print the time it took to fit the model\n",
    "print(f\"Time to train QDA model: {end_time - start_time} seconds\")\n",
    "\n",
    "# use the trained model to predict on the test set\n",
    "start_time = time.time()\n",
    "accuracy = qda.score(X_test, Y_test)\n",
    "end_time = time.time()\n",
    "\n",
    "# print the accuracy and time to predict\n",
    "print(f\"Accuracy on test set: {accuracy:.4f}\")\n",
    "print(f\"Time to make predictions on test set: {end_time - start_time} seconds\")"
   ]
  },
  {
   "cell_type": "markdown",
   "metadata": {},
   "source": [
    "# 3. Logistic Regression"
   ]
  },
  {
   "cell_type": "markdown",
   "metadata": {},
   "source": [
    "Repeat the exercise above for sklearn's <b>LogisticsRegression()</b> algorithm. You might find the following arguments helpful when initializing the model: <b>penalty='l1', C=1.0, tol=0.01, solver='liblinear'</b>. These parameters will help speed up the algorithm significantly. Produce the training time, test set prediction accuracy score and time taken to produce predictions. Format your answers."
   ]
  },
  {
   "cell_type": "code",
   "execution_count": 27,
   "metadata": {},
   "outputs": [
    {
     "name": "stdout",
     "output_type": "stream",
     "text": [
      "Time to train logistic regression model: 4.6404 seconds\n",
      "Accuracy on test set: 0.9133\n",
      "Time to make predictions on test set: 0.0135 seconds\n"
     ]
    }
   ],
   "source": [
    "# (4 pts) Train Logistic Regression and report time\n",
    "# (4 pts) Test Logistic Regression and report accuracy, time\n",
    "from sklearn.linear_model import LogisticRegression\n",
    "\n",
    "# create an instance of the logistic regression model\n",
    "logreg = LogisticRegression(penalty='l1', C=1.0, tol=0.01, solver='liblinear')\n",
    "\n",
    "# fit the model to the training data\n",
    "start_time = time.time()\n",
    "logreg.fit(X_train, Y_train)\n",
    "end_time = time.time()\n",
    "\n",
    "# print the time it took to fit the model\n",
    "print(f\"Time to train logistic regression model: {end_time - start_time:.4f} seconds\")\n",
    "\n",
    "# use the trained model to predict on the test set\n",
    "start_time = time.time()\n",
    "accuracy = logreg.score(X_test, Y_test)\n",
    "end_time = time.time()\n",
    "\n",
    "# print the accuracy and time to predict\n",
    "print(f\"Accuracy on test set: {accuracy:.4f}\")\n",
    "print(f\"Time to make predictions on test set: {end_time - start_time:.4f} seconds\")\n"
   ]
  },
  {
   "cell_type": "markdown",
   "metadata": {},
   "source": [
    "<b>****** The folowing models take a long time to run so we suggest reading all parts of the exercise first before implementing code. *****</b>"
   ]
  },
  {
   "cell_type": "markdown",
   "metadata": {},
   "source": [
    "# 4. k-Nearest Neighbors"
   ]
  },
  {
   "cell_type": "markdown",
   "metadata": {},
   "source": [
    "a) Repeat the classification exercises above for sklearn's kNN algorithm <b>KNeighborsClassifier()</b> using <b>k=1</b>. You might find the following arguments helpful when initializing the model: <b>algorithm='kd_tree', metric='minkowski', p=2</b>. These parameters will help speed up the algorithm significantly. However, the predictions will still be very slow. Produce the training time, test set prediction accuracy score and time taken to produce predictions. Format your answers."
   ]
  },
  {
   "cell_type": "code",
   "execution_count": 28,
   "metadata": {},
   "outputs": [
    {
     "name": "stdout",
     "output_type": "stream",
     "text": [
      "Time to train kNN model: 15.9941 seconds\n"
     ]
    },
    {
     "name": "stderr",
     "output_type": "stream",
     "text": [
      "C:\\anaconda3\\lib\\site-packages\\sklearn\\neighbors\\_classification.py:228: FutureWarning: Unlike other reduction functions (e.g. `skew`, `kurtosis`), the default behavior of `mode` typically preserves the axis it acts along. In SciPy 1.11.0, this behavior will change: the default value of `keepdims` will become False, the `axis` over which the statistic is taken will be eliminated, and the value None will no longer be accepted. Set `keepdims` to True or False to avoid this warning.\n",
      "  mode, _ = stats.mode(_y[neigh_ind, k], axis=1)\n"
     ]
    },
    {
     "name": "stdout",
     "output_type": "stream",
     "text": [
      "Accuracy on test set: 0.9547\n",
      "Time to make predictions on test set: 206.7722 seconds\n"
     ]
    }
   ],
   "source": [
    "# (4 pts) Train kNN for k=1 and report time\n",
    "# (4 pts) Test kNN and report accuracy, time\n",
    "from sklearn.neighbors import KNeighborsClassifier\n",
    "\n",
    "# create an instance of the kNN model\n",
    "knn = KNeighborsClassifier(n_neighbors=1, algorithm='kd_tree', metric='minkowski', p=2)\n",
    "\n",
    "# fit the model to the training data\n",
    "start_time = time.time()\n",
    "knn.fit(X_train, Y_train)\n",
    "end_time = time.time()\n",
    "\n",
    "# print the time it took to fit the model\n",
    "print(f\"Time to train kNN model: {end_time - start_time:.4f} seconds\")\n",
    "\n",
    "# use the trained model to predict on the test set\n",
    "start_time = time.time()\n",
    "accuracy = knn.score(X_test, Y_test)\n",
    "end_time = time.time()\n",
    "\n",
    "# print the accuracy and time to predict\n",
    "print(f\"Accuracy on test set: {accuracy:.4f}\")\n",
    "print(f\"Time to make predictions on test set: {end_time - start_time:.4f} seconds\")\n"
   ]
  },
  {
   "cell_type": "markdown",
   "metadata": {},
   "source": [
    "b) For the kNN model trained above, what is the prediction accuracy on the <b>training set</b> $X_{train}, Y_{train}$ (this will take a while to compute)? Compare this to the the prediction accuracy on the training set for the <b>LogisticRegression model</b>? "
   ]
  },
  {
   "cell_type": "code",
   "execution_count": 29,
   "metadata": {},
   "outputs": [
    {
     "name": "stderr",
     "output_type": "stream",
     "text": [
      "C:\\anaconda3\\lib\\site-packages\\sklearn\\neighbors\\_classification.py:228: FutureWarning: Unlike other reduction functions (e.g. `skew`, `kurtosis`), the default behavior of `mode` typically preserves the axis it acts along. In SciPy 1.11.0, this behavior will change: the default value of `keepdims` will become False, the `axis` over which the statistic is taken will be eliminated, and the value None will no longer be accepted. Set `keepdims` to True or False to avoid this warning.\n",
      "  mode, _ = stats.mode(_y[neigh_ind, k], axis=1)\n"
     ]
    },
    {
     "name": "stdout",
     "output_type": "stream",
     "text": [
      "Accuracy on training set: 1.0000\n"
     ]
    }
   ],
   "source": [
    "# (2 pts) Report kNN training accuracy\n",
    "# (2 pts) Report Logistic Regression training accuracy \n",
    "# compute the accuracy on the training set\n",
    "accuracy_train = knn.score(X_train, Y_train)\n",
    "print(f\"Accuracy on training set: {accuracy_train:.4f}\")"
   ]
  },
  {
   "cell_type": "markdown",
   "metadata": {},
   "source": [
    "c) (3 pts) Does anything surprise you about the Training set accuracies above? Why or why not?"
   ]
  },
  {
   "cell_type": "markdown",
   "metadata": {},
   "source": [
    "Not surprising. A points nearest neighbor is itself"
   ]
  },
  {
   "cell_type": "markdown",
   "metadata": {},
   "source": [
    "d) (3 pts) Can you think why there is such a large difference between the kNN algorithms's training and prediction times?"
   ]
  },
  {
   "cell_type": "markdown",
   "metadata": {},
   "source": [
    "During prediction, each test point has to be compared to every training example while training uses a tree algorithm to efficiently compute the distances between each point"
   ]
  },
  {
   "cell_type": "markdown",
   "metadata": {},
   "source": [
    "e) For now, we have only tried <b>k=1</b> (choose the closet neighbor) according to the Euclidean distance metric <b>p=2</b>. Repeat the exercise above for the following combinations of parameters: <b> k $\\in$ {1, 3}, p $\\in$ {2, 3} </b>. Note that p=2 is the 2-norm (Euclidean distance) and p=3 is the 3-norm. Train each of the models on the training set and evaluate the accuracy on the <b>validation set</b> $X_{val}, Y_{val}$. <b>NOTE: this might take a while!</b> Report the validation set accuracy for each model. Format your answers.\n",
    "\n",
    "<b>Note:</b> We recommend following the code skeleton below."
   ]
  },
  {
   "cell_type": "code",
   "execution_count": 30,
   "metadata": {},
   "outputs": [
    {
     "name": "stderr",
     "output_type": "stream",
     "text": [
      "C:\\anaconda3\\lib\\site-packages\\sklearn\\neighbors\\_classification.py:228: FutureWarning: Unlike other reduction functions (e.g. `skew`, `kurtosis`), the default behavior of `mode` typically preserves the axis it acts along. In SciPy 1.11.0, this behavior will change: the default value of `keepdims` will become False, the `axis` over which the statistic is taken will be eliminated, and the value None will no longer be accepted. Set `keepdims` to True or False to avoid this warning.\n",
      "  mode, _ = stats.mode(_y[neigh_ind, k], axis=1)\n"
     ]
    },
    {
     "name": "stdout",
     "output_type": "stream",
     "text": [
      "Validation accuracy for k=1, p=2: 0.9607, Training time: 0.5295 seconds\n"
     ]
    },
    {
     "name": "stderr",
     "output_type": "stream",
     "text": [
      "C:\\anaconda3\\lib\\site-packages\\sklearn\\neighbors\\_classification.py:228: FutureWarning: Unlike other reduction functions (e.g. `skew`, `kurtosis`), the default behavior of `mode` typically preserves the axis it acts along. In SciPy 1.11.0, this behavior will change: the default value of `keepdims` will become False, the `axis` over which the statistic is taken will be eliminated, and the value None will no longer be accepted. Set `keepdims` to True or False to avoid this warning.\n",
      "  mode, _ = stats.mode(_y[neigh_ind, k], axis=1)\n"
     ]
    },
    {
     "name": "stdout",
     "output_type": "stream",
     "text": [
      "Validation accuracy for k=1, p=3: 0.9633, Training time: 0.0379 seconds\n"
     ]
    },
    {
     "name": "stderr",
     "output_type": "stream",
     "text": [
      "C:\\anaconda3\\lib\\site-packages\\sklearn\\neighbors\\_classification.py:228: FutureWarning: Unlike other reduction functions (e.g. `skew`, `kurtosis`), the default behavior of `mode` typically preserves the axis it acts along. In SciPy 1.11.0, this behavior will change: the default value of `keepdims` will become False, the `axis` over which the statistic is taken will be eliminated, and the value None will no longer be accepted. Set `keepdims` to True or False to avoid this warning.\n",
      "  mode, _ = stats.mode(_y[neigh_ind, k], axis=1)\n"
     ]
    },
    {
     "name": "stdout",
     "output_type": "stream",
     "text": [
      "Validation accuracy for k=3, p=2: 0.9733, Training time: 0.0299 seconds\n",
      "Validation accuracy for k=3, p=3: 0.9747, Training time: 0.0300 seconds\n",
      "\n",
      "Best validation accuracy: 0.9747 with k=3 and p=3\n"
     ]
    },
    {
     "name": "stderr",
     "output_type": "stream",
     "text": [
      "C:\\anaconda3\\lib\\site-packages\\sklearn\\neighbors\\_classification.py:228: FutureWarning: Unlike other reduction functions (e.g. `skew`, `kurtosis`), the default behavior of `mode` typically preserves the axis it acts along. In SciPy 1.11.0, this behavior will change: the default value of `keepdims` will become False, the `axis` over which the statistic is taken will be eliminated, and the value None will no longer be accepted. Set `keepdims` to True or False to avoid this warning.\n",
      "  mode, _ = stats.mode(_y[neigh_ind, k], axis=1)\n"
     ]
    }
   ],
   "source": [
    "# Train kNN for all combinations of parameters above and report validation accuracy for each\n",
    "def runKNN(X_train, Y_train, X_val, Y_val, k, p):\n",
    "    start_time = time.time()\n",
    "    \n",
    "    knn = KNeighborsClassifier(n_neighbors=k, p=p)\n",
    "    knn.fit(X_train, Y_train)\n",
    "    \n",
    "    train_time = time.time() - start_time\n",
    "    \n",
    "    y_pred = knn.predict(X_val)\n",
    "    val_score = accuracy_score(Y_val, y_pred)\n",
    "    \n",
    "    return knn, val_score, train_time\n",
    "\n",
    "best_score = 0.0\n",
    "best_k, best_p, best_knn = None, None, None\n",
    "best_train_time = np.inf\n",
    "\n",
    "for k in [1, 3]:\n",
    "    for p in [2, 3]:\n",
    "        knn_model, val_score, train_time = runKNN(X_train, Y_train, X_val, Y_val, k, p)\n",
    "        \n",
    "        if val_score > best_score:\n",
    "            best_score = val_score\n",
    "            best_k = k\n",
    "            best_p = p\n",
    "            best_knn = knn_model\n",
    "            \n",
    "        print(f\"Validation accuracy for k={k}, p={p}: {val_score:.4f}, Training time: {train_time:.4f} seconds\")\n",
    "        \n",
    "print(f\"\\nBest validation accuracy: {best_score:.4f} with k={best_k} and p={best_p}\")"
   ]
  },
  {
   "cell_type": "markdown",
   "metadata": {},
   "source": [
    "f) (1 pt) Based on the scores on the validation set, which parameters give the best model? Report the time taken to train the best model."
   ]
  },
  {
   "cell_type": "markdown",
   "metadata": {},
   "source": [
    "Best validation accuracy: 0.9747 with k=3 and p=3"
   ]
  },
  {
   "cell_type": "markdown",
   "metadata": {},
   "source": [
    "g) Using the best model, evaluate performance on the <b>test set</b>. Produce the prediction accuracy score and time taken to produce predictions. Please format your answers."
   ]
  },
  {
   "cell_type": "code",
   "execution_count": 31,
   "metadata": {},
   "outputs": [
    {
     "name": "stderr",
     "output_type": "stream",
     "text": [
      "C:\\anaconda3\\lib\\site-packages\\sklearn\\neighbors\\_classification.py:228: FutureWarning: Unlike other reduction functions (e.g. `skew`, `kurtosis`), the default behavior of `mode` typically preserves the axis it acts along. In SciPy 1.11.0, this behavior will change: the default value of `keepdims` will become False, the `axis` over which the statistic is taken will be eliminated, and the value None will no longer be accepted. Set `keepdims` to True or False to avoid this warning.\n",
      "  mode, _ = stats.mode(_y[neigh_ind, k], axis=1)\n"
     ]
    },
    {
     "name": "stdout",
     "output_type": "stream",
     "text": [
      "Test accuracy score for the best model (k=3, p=3): 0.9593\n",
      "Time taken to produce predictions on the test set: 1541.1423 seconds\n"
     ]
    }
   ],
   "source": [
    "# (4 pts) Test best kNN and report accuracy, time\n",
    "start_time = time.time()\n",
    "\n",
    "y_pred = best_knn.predict(X_test)\n",
    "test_score = accuracy_score(Y_test, y_pred)\n",
    "\n",
    "test_time = time.time() - start_time\n",
    "\n",
    "print(f\"Test accuracy score for the best model (k={best_k}, p={best_p}): {test_score:.4f}\")\n",
    "print(f\"Time taken to produce predictions on the test set: {test_time:.4f} seconds\")\n",
    "\n"
   ]
  },
  {
   "cell_type": "markdown",
   "metadata": {},
   "source": [
    "# 6. Simple Neural Network"
   ]
  },
  {
   "cell_type": "markdown",
   "metadata": {},
   "source": [
    "We will now complete the tasks above using a simple Neural Network model.\n",
    "This portal comes with a tensorflow installation (see the imports at the very top of this file).\n",
    "Your task is the following:\n",
    "1. Adapt the tensorflow tutorial here (https://www.tensorflow.org/tutorials/quickstart/beginner) to train a simple Neural Network model\n",
    "2. You are required to use <b>ONLY</b> the $X_{train}, Y_{train}, X_{val}, Y_{val}, X_{test}, Y_{test}$ subsets provided earlier in this assignment. <b>DO NOT use any other subsets of the mnist dataset: you will have to adapt the tutorial to use the data provided in this assignment.</b>\n",
    "3. You will need to write a custom one-hot encoder for the labels\n",
    "   Hint: you might find the following libraries useful:\n",
    "\t\tfrom keras.utils import to_categorical\n",
    "4. Train using $X_{train}, Y_{train}$.\n",
    "5. Finally, produce the following: Time taken to train the model; Time taken to produce Test set predictions; Test set accuracy\n",
    "\n",
    "<b>Note:</b> We recommend following the code skeleton below."
   ]
  },
  {
   "cell_type": "code",
   "execution_count": null,
   "metadata": {},
   "outputs": [
    {
     "name": "stdout",
     "output_type": "stream",
     "text": [
      "Epoch 1/20\n",
      "516/516 [==============================] - 4s 6ms/step - loss: 0.3186 - accuracy: 0.9048 - val_loss: 0.1277 - val_accuracy: 0.9640\n",
      "Epoch 2/20\n",
      "516/516 [==============================] - 3s 6ms/step - loss: 0.1317 - accuracy: 0.9608 - val_loss: 0.1120 - val_accuracy: 0.9640\n",
      "Epoch 3/20\n",
      "516/516 [==============================] - 3s 6ms/step - loss: 0.0817 - accuracy: 0.9739 - val_loss: 0.1130 - val_accuracy: 0.9613\n",
      "Epoch 4/20\n",
      "516/516 [==============================] - 3s 5ms/step - loss: 0.0542 - accuracy: 0.9824 - val_loss: 0.1053 - val_accuracy: 0.9647\n",
      "Epoch 5/20\n",
      "516/516 [==============================] - 3s 6ms/step - loss: 0.0417 - accuracy: 0.9864 - val_loss: 0.0855 - val_accuracy: 0.9740\n",
      "Epoch 6/20\n",
      "516/516 [==============================] - 3s 6ms/step - loss: 0.0305 - accuracy: 0.9898 - val_loss: 0.1189 - val_accuracy: 0.9653\n",
      "Epoch 7/20\n",
      "516/516 [==============================] - 3s 6ms/step - loss: 0.0244 - accuracy: 0.9916 - val_loss: 0.0730 - val_accuracy: 0.9760\n",
      "Epoch 8/20\n",
      "516/516 [==============================] - 3s 6ms/step - loss: 0.0265 - accuracy: 0.9902 - val_loss: 0.0881 - val_accuracy: 0.9753\n",
      "Epoch 9/20\n",
      "516/516 [==============================] - 3s 6ms/step - loss: 0.0195 - accuracy: 0.9943 - val_loss: 0.0966 - val_accuracy: 0.9727\n",
      "Epoch 10/20\n",
      "516/516 [==============================] - 3s 6ms/step - loss: 0.0257 - accuracy: 0.9913 - val_loss: 0.1441 - val_accuracy: 0.9673\n",
      "Epoch 11/20\n",
      " 82/516 [===>..........................] - ETA: 2s - loss: 0.0247 - accuracy: 0.9924"
     ]
    }
   ],
   "source": [
    "# Implement simpleNN\n",
    "# Train simpleNN and report time\n",
    "# Test simpleNN and report accuracy, time\n",
    "from keras.utils import to_categorical\n",
    "def simple_nn(X, Y, X_val, Y_val, X_test, Y_test):\n",
    "    # Define the model\n",
    "    model = tf.keras.models.Sequential([\n",
    "        tf.keras.layers.Dense(512, activation='relu'),  # add a hidden layer with 128 units and ReLU activation\n",
    "        tf.keras.layers.Dense(256, activation='relu'),  # add a hidden layer with 128 units and ReLU activation\n",
    "        tf.keras.layers.Dense(10, activation='softmax')  # add an output layer with 10 units \n",
    "\n",
    "    ])\n",
    "    # One-hot encode the labels\n",
    "    Y = to_categorical(Y)\n",
    "    Y_val = to_categorical(Y_val)\n",
    "    Y_test = to_categorical(Y_test)\n",
    "    \n",
    "    # Compile the model\n",
    "    model.compile(optimizer='adam', loss='categorical_crossentropy', metrics=['accuracy'])\n",
    "    \n",
    "    # Train the model and time it\n",
    "    start_time = time.time()\n",
    "    process = model.fit(X, Y, epochs=20, validation_data=(X_val, Y_val))\n",
    "    train_time = time.time() - start_time\n",
    "    \n",
    "    # Evaluate the model on the test set and time it\n",
    "    start_time = time.time()\n",
    "    test_loss, test_acc = model.evaluate(X_test, Y_test)\n",
    "    test_time = time.time() - start_time\n",
    "    \n",
    "    print(f\"Test accuracy score for simple neural network: {test_acc:.4f}\")\n",
    "    print(f\"Time taken to train the model: {train_time:.4f} seconds\")\n",
    "    print(f\"Time taken to produce test set predictions: {test_time:.4f} seconds\")\n",
    "    \n",
    "    return process\n",
    "\n",
    "simple_process = simple_nn(X_train, Y_train, X_val, Y_val, X_test, Y_test)"
   ]
  },
  {
   "cell_type": "markdown",
   "metadata": {},
   "source": [
    "(2 pts) Plot the training and validation accuracy curves in the same plot."
   ]
  },
  {
   "cell_type": "code",
   "execution_count": 67,
   "metadata": {},
   "outputs": [
    {
     "data": {
      "image/png": "[encoded data removed]",
      "text/plain": [
       "<Figure size 640x480 with 1 Axes>"
      ]
     },
     "metadata": {},
     "output_type": "display_data"
    }
   ],
   "source": [
    "# hint: use simple_process\n",
    "# Extract training and validation accuracy from simple_process.history\n",
    "train_acc = simple_process.history['accuracy']\n",
    "val_acc = simple_process.history['val_accuracy']\n",
    "\n",
    "# Plot training and validation accuracy curves\n",
    "plt.plot(train_acc, label='Training accuracy')\n",
    "plt.plot(val_acc, label='Validation accuracy')\n",
    "plt.xlabel('Epoch')\n",
    "plt.ylabel('Accuracy')\n",
    "plt.legend()\n",
    "plt.show()"
   ]
  },
  {
   "cell_type": "markdown",
   "metadata": {},
   "source": [
    "# 7. Convolutional Neural Network"
   ]
  },
  {
   "cell_type": "markdown",
   "metadata": {},
   "source": [
    "We will now complete the tasks above using a more complicated model: Convolutional Neural Network.\n",
    "\n",
    "Your task is the following:\n",
    "1. Adapt the CNN tensorflow tutorial here (https://machinelearningmastery.com/how-to-develop-a-convolutional-neural-network-from-scratch-for-mnist-handwritten-digit-classification/) to train a Convolutional Neural Network model\n",
    "2. You are required to use <b>ONLY</b> the $X_{train}, Y_{train}, X_{val}, Y_{val}, X_{test}, Y_{test}$ subsets provided earlier in this assignment. <b>DO NOT use any other subsets of the mnist dataset: you will have to adapt the tutorial to use the data provided in this assignment.</b>\n",
    "3. Use the same one-hot encoder as the previous part\n",
    "4. Train using $X_{train}, Y_{train}$.\n",
    "5. Finally, produce the following:\n",
    "\tTime taken to train the model; Time taken to produce Test set predictions; Test set accuracy\n",
    "\n",
    "<b>Note:</b> We recommend following the code skeleton below."
   ]
  },
  {
   "cell_type": "code",
   "execution_count": 71,
   "metadata": {},
   "outputs": [
    {
     "name": "stdout",
     "output_type": "stream",
     "text": [
      "Epoch 1/20\n",
      "516/516 [==============================] - 9s 16ms/step - loss: 0.3324 - accuracy: 0.8985 - val_loss: 0.1593 - val_accuracy: 0.9523\n",
      "Epoch 2/20\n",
      "516/516 [==============================] - 7s 14ms/step - loss: 0.1225 - accuracy: 0.9639 - val_loss: 0.1003 - val_accuracy: 0.9680\n",
      "Epoch 3/20\n",
      "516/516 [==============================] - 9s 17ms/step - loss: 0.0757 - accuracy: 0.9774 - val_loss: 0.0906 - val_accuracy: 0.9727\n",
      "Epoch 4/20\n",
      "516/516 [==============================] - 8s 15ms/step - loss: 0.0498 - accuracy: 0.9857 - val_loss: 0.0958 - val_accuracy: 0.9703\n",
      "Epoch 5/20\n",
      "516/516 [==============================] - 9s 17ms/step - loss: 0.0327 - accuracy: 0.9916 - val_loss: 0.0671 - val_accuracy: 0.9793\n",
      "Epoch 6/20\n",
      "516/516 [==============================] - 8s 16ms/step - loss: 0.0235 - accuracy: 0.9933 - val_loss: 0.0754 - val_accuracy: 0.9770\n",
      "Epoch 7/20\n",
      "516/516 [==============================] - 9s 17ms/step - loss: 0.0132 - accuracy: 0.9973 - val_loss: 0.0753 - val_accuracy: 0.9773\n",
      "Epoch 8/20\n",
      "516/516 [==============================] - 8s 16ms/step - loss: 0.0089 - accuracy: 0.9990 - val_loss: 0.0726 - val_accuracy: 0.9770\n",
      "Epoch 9/20\n",
      "516/516 [==============================] - 8s 16ms/step - loss: 0.0057 - accuracy: 0.9998 - val_loss: 0.0768 - val_accuracy: 0.9783\n",
      "Epoch 10/20\n",
      "516/516 [==============================] - 9s 17ms/step - loss: 0.0037 - accuracy: 0.9999 - val_loss: 0.0696 - val_accuracy: 0.9787\n",
      "Epoch 11/20\n",
      "516/516 [==============================] - 8s 16ms/step - loss: 0.0027 - accuracy: 1.0000 - val_loss: 0.0723 - val_accuracy: 0.9793\n",
      "Epoch 12/20\n",
      "516/516 [==============================] - 9s 17ms/step - loss: 0.0020 - accuracy: 1.0000 - val_loss: 0.0732 - val_accuracy: 0.9793\n",
      "Epoch 13/20\n",
      "516/516 [==============================] - 9s 18ms/step - loss: 0.0016 - accuracy: 1.0000 - val_loss: 0.0772 - val_accuracy: 0.9793\n",
      "Epoch 14/20\n",
      "516/516 [==============================] - 9s 17ms/step - loss: 0.0014 - accuracy: 1.0000 - val_loss: 0.0769 - val_accuracy: 0.9800\n",
      "Epoch 15/20\n",
      "516/516 [==============================] - 9s 17ms/step - loss: 0.0012 - accuracy: 1.0000 - val_loss: 0.0776 - val_accuracy: 0.9793\n",
      "Epoch 16/20\n",
      "516/516 [==============================] - 8s 16ms/step - loss: 0.0011 - accuracy: 1.0000 - val_loss: 0.0797 - val_accuracy: 0.9793\n",
      "Epoch 17/20\n",
      "516/516 [==============================] - 9s 17ms/step - loss: 9.7442e-04 - accuracy: 1.0000 - val_loss: 0.0792 - val_accuracy: 0.9793\n",
      "Epoch 18/20\n",
      "516/516 [==============================] - 9s 17ms/step - loss: 8.8465e-04 - accuracy: 1.0000 - val_loss: 0.0795 - val_accuracy: 0.9793\n",
      "Epoch 19/20\n",
      "516/516 [==============================] - 9s 17ms/step - loss: 8.1212e-04 - accuracy: 1.0000 - val_loss: 0.0806 - val_accuracy: 0.9790\n",
      "Epoch 20/20\n",
      "516/516 [==============================] - 9s 17ms/step - loss: 7.3879e-04 - accuracy: 1.0000 - val_loss: 0.0819 - val_accuracy: 0.9787\n",
      "Test Accuracy: 97.867\n"
     ]
    }
   ],
   "source": [
    "# Implement CNN\n",
    "# Train CNN and report time\n",
    "# Test CNN and report accuracy, time\n",
    "\n",
    "from keras.utils import to_categorical\n",
    "from keras import layers\n",
    "from keras.optimizers import SGD\n",
    "\n",
    "def conv_nn(X_train, Y_train, X_test, Y_test):\n",
    "    # (1 pt) reshape dataset to have a single channel (see tutorial)\n",
    "    X_train = X_train.reshape((X_train.shape[0], 28, 28, 1))\n",
    "    X_test = X_test.reshape((X_test.shape[0], 28, 28, 1))\n",
    "\n",
    "    # (1 pt) one-hot encode the labels\n",
    "    Y_train = to_categorical(Y_train)\n",
    "    Y_test = to_categorical(Y_test)\n",
    "\n",
    "    model = tf.keras.models.Sequential([\n",
    "        # (8 pts) your model here\n",
    "        tf.keras.layers.Conv2D(32, (3,3), activation='relu', kernel_initializer='he_uniform', input_shape=(28, 28, 1)),\n",
    "        tf.keras.layers.MaxPooling2D((2, 2)),\n",
    "        tf.keras.layers.Flatten(),\n",
    "        tf.keras.layers.Dense(100, activation='relu', kernel_initializer='he_uniform'),\n",
    "        tf.keras.layers.Dense(10, activation='softmax')\n",
    "    ])\n",
    "\n",
    "    # (2 pts) compile model\n",
    "    opt = SGD(learning_rate=0.01, momentum=0.9)\n",
    "    model.compile(optimizer=opt, loss='categorical_crossentropy', metrics=['accuracy'])\n",
    "\n",
    "    process = model.fit(\n",
    "        # (4 pts) train model for 20 epochs and time it\n",
    "        X_train, Y_train, epochs=20, batch_size=32, validation_data=(X_test, Y_test), verbose=1\n",
    "    )\n",
    "    \n",
    "    # (4 pts) evaluate model and time it\n",
    "    _, acc = model.evaluate(X_test, Y_test, verbose=0)\n",
    "    return acc, process.history['accuracy'], process.history['val_accuracy'], process\n",
    "\n",
    "test_accuracy, train_acc, val_acc, conv_process = conv_nn(X_train, Y_train, X_test, Y_test)\n",
    "print(\"Test Accuracy: %.3f\" % (test_accuracy * 100.0))"
   ]
  },
  {
   "cell_type": "markdown",
   "metadata": {},
   "source": [
    "(2 pts) Plot the training and validation accuracy curves in the same plot."
   ]
  },
  {
   "cell_type": "code",
   "execution_count": 72,
   "metadata": {},
   "outputs": [
    {
     "data": {
      "image/png": "[encoded data removed]",
      "text/plain": [
       "<Figure size 640x480 with 1 Axes>"
      ]
     },
     "metadata": {},
     "output_type": "display_data"
    }
   ],
   "source": [
    "# hint: use conv_process\n",
    "plt.plot(conv_process.history['accuracy'], label='Training Accuracy')\n",
    "plt.plot(conv_process.history['val_accuracy'], label='Validation Accuracy')\n",
    "plt.title('Training and Validation Accuracy')\n",
    "plt.xlabel('Epoch')\n",
    "plt.ylabel('Accuracy')\n",
    "plt.legend()\n",
    "plt.show()"
   ]
  },
  {
   "cell_type": "markdown",
   "metadata": {},
   "source": [
    "(3 pts) What do you observe in the plots showing training v.s. validation accuracies? Why?\n",
    "\n",
    "In both the plots, we see that training accuracy starts high and gradually improves over time as the model becomes better at fitting the training data. On the other hand, the validation accuracy initially increases with the training accuracy but then stops improving and plateaus, indicating that the model is starting to overfit the training data and is not generalizing well to the validation data.\n",
    "\n",
    "In the simple Neural Network model, the validation accuracy plateaus at around 0.97, while the training accuracy approaches 1. This suggests that the model is overfitting the training data and needs to be regularized.\n",
    "\n",
    "In the Convolutional Neural Network model, the validation accuracy plateaus at around 0.98, while the training accuracy approaches 1.0. This indicates that the CNN model is a better fit for the data and can generalize well to unseen data."
   ]
  },
  {
   "cell_type": "markdown",
   "metadata": {},
   "source": []
  },
  {
   "cell_type": "markdown",
   "metadata": {},
   "source": [
    "(6 pts) Comment on the features of the various algorithms you have used in this assignment and the tradeoffs between computational efficiency and accuracy.\n",
    "\n",
    "KNN is a simple non-parametric algorithm that uses all the training data to calculate distances between test instances for prediction. Although it has a negligible training time, KNN can be computationally expensive during testing, especially with large training sets. KNN performs well in low-dimensional spaces but struggles with high-dimensional data.\n",
    "\n",
    "NN and CNN are deep learning algorithms that can learn complex features from input data. NN is computationally expensive to train, but it can learn complex non-linear relationships between input and output. CNN is designed for image data and uses convolutional layers to extract features and pooling layers to downsample them. CNN is generally faster during testing than NN and can learn better features from image data, making it the best choice for image classification tasks.\n",
    "\n",
    "The choice between computational efficiency and accuracy depends on the specific application. KNN may be a good choice for low-computing resource applications that can tolerate lower accuracy, while NN and CNN may be better suited for high-computing resource applications that require high accuracy. CNN is better for image data, while NN may be better suited for other types of data such as text or speech."
   ]
  },
  {
   "cell_type": "markdown",
   "metadata": {},
   "source": []
  }
 ],
 "metadata": {
  "kernelspec": {
   "display_name": "Python 3 (ipykernel)",
   "language": "python",
   "name": "python3"
  },
  "language_info": {
   "codemirror_mode": {
    "name": "ipython",
    "version": 3
   },
   "file_extension": ".py",
   "mimetype": "text/x-python",
   "name": "python",
   "nbconvert_exporter": "python",
   "pygments_lexer": "ipython3",
   "version": "3.9.13"
  }
 },
 "nbformat": 4,
 "nbformat_minor": 4
}
